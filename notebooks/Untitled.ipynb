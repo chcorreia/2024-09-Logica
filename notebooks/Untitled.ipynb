{
 "cells": [
  {
   "cell_type": "code",
   "execution_count": 9,
   "id": "b0ae63aa-0ad5-444f-a22b-372bb2cabbdd",
   "metadata": {},
   "outputs": [
    {
     "data": {
      "application/vnd.jupyter.widget-view+json": {
       "model_id": "a12dc088431d4ab3a5849f779692b7cc",
       "version_major": 2,
       "version_minor": 0
      },
      "text/plain": [
       "Canvas(height=400, width=400)"
      ]
     },
     "metadata": {},
     "output_type": "display_data"
    }
   ],
   "source": [
    "from ipycanvas import Canvas\n",
    "\n",
    "# Create a canvas\n",
    "canvas = Canvas(width=400, height=400)\n",
    "\n",
    "# Set the coordinates for the star points\n",
    "points = [\n",
    "    (200, 50),   # Top point\n",
    "    (240, 150),  # Bottom right\n",
    "    (140, 100),  # Top left\n",
    "    (260, 100),  # Top right\n",
    "    (160, 150),  # Bottom left\n",
    "]\n",
    "\n",
    "# Draw lines to connect the points and form a star\n",
    "canvas.stroke_style = 'blue'  # Set the color of the star\n",
    "\n",
    "# Move to the first point\n",
    "canvas.move_to(*points[0])\n",
    "\n",
    "# Draw lines between points to form the star\n",
    "canvas.line_to(*points[1])\n",
    "canvas.line_to(*points[4])\n",
    "canvas.line_to(*points[2])\n",
    "canvas.line_to(*points[3])\n",
    "canvas.line_to(*points[0])\n",
    "\n",
    "# Stroke the lines to make them visible\n",
    "canvas.stroke()\n",
    "\n",
    "# Display the canvas\n",
    "canvas\n"
   ]
  },
  {
   "cell_type": "code",
   "execution_count": null,
   "id": "c4e3719c-a20d-4b18-93a5-4ef79f5257ee",
   "metadata": {},
   "outputs": [],
   "source": []
  }
 ],
 "metadata": {
  "kernelspec": {
   "display_name": "Python 3 (ipykernel)",
   "language": "python",
   "name": "python3"
  },
  "language_info": {
   "codemirror_mode": {
    "name": "ipython",
    "version": 3
   },
   "file_extension": ".py",
   "mimetype": "text/x-python",
   "name": "python",
   "nbconvert_exporter": "python",
   "pygments_lexer": "ipython3",
   "version": "3.12.3"
  }
 },
 "nbformat": 4,
 "nbformat_minor": 5
}
